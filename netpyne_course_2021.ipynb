{
  "nbformat": 4,
  "nbformat_minor": 0,
  "metadata": {
    "colab": {
      "name": "netpyne_course_2021.ipynb",
      "provenance": [],
      "authorship_tag": "ABX9TyOtubXyghQQBEhgzKZVByQb",
      "include_colab_link": true
    },
    "kernelspec": {
      "name": "python3",
      "display_name": "Python 3"
    },
    "language_info": {
      "name": "python"
    }
  },
  "cells": [
    {
      "cell_type": "markdown",
      "metadata": {
        "id": "view-in-github",
        "colab_type": "text"
      },
      "source": [
        "<a href=\"https://colab.research.google.com/github/niknovikov19/netpyne_course_2021/blob/main/netpyne_course_2021.ipynb\" target=\"_parent\"><img src=\"https://colab.research.google.com/assets/colab-badge.svg\" alt=\"Open In Colab\"/></a>"
      ]
    },
    {
      "cell_type": "markdown",
      "metadata": {
        "id": "9VX_CYqwts0q"
      },
      "source": [
        "## NetPyNE Course 2021"
      ]
    },
    {
      "cell_type": "code",
      "metadata": {
        "colab": {
          "base_uri": "https://localhost:8080/"
        },
        "id": "yAXIblZ2tpJL",
        "outputId": "ee21d819-62c2-4d3d-a1aa-3e69c2a4a98e"
      },
      "source": [
        "!pip install neuron"
      ],
      "execution_count": 2,
      "outputs": [
        {
          "output_type": "stream",
          "text": [
            "Collecting neuron\n",
            "\u001b[?25l  Downloading https://files.pythonhosted.org/packages/14/f4/ea50608c7633c286859d6cce0aad621da22a8da7ff9787efc8bb71fe0597/NEURON-8.0.0-cp37-cp37m-manylinux1_x86_64.whl (12.6MB)\n",
            "\u001b[K     |████████████████████████████████| 12.6MB 11.7MB/s \n",
            "\u001b[?25hRequirement already satisfied: numpy>=1.9.3 in /usr/local/lib/python3.7/dist-packages (from neuron) (1.19.5)\n",
            "Installing collected packages: neuron\n",
            "Successfully installed neuron-8.0.0\n"
          ],
          "name": "stdout"
        }
      ]
    },
    {
      "cell_type": "code",
      "metadata": {
        "colab": {
          "base_uri": "https://localhost:8080/"
        },
        "id": "JcDbzydCt2G6",
        "outputId": "ace6d1fa-ea8a-4c54-8ea1-72ece1d21ea2"
      },
      "source": [
        "!which nrnivmodl"
      ],
      "execution_count": 3,
      "outputs": [
        {
          "output_type": "stream",
          "text": [
            "/usr/local/bin/nrnivmodl\n"
          ],
          "name": "stdout"
        }
      ]
    },
    {
      "cell_type": "markdown",
      "metadata": {
        "id": "lrcDRIEduPmQ"
      },
      "source": [
        "### Install NetPyNE"
      ]
    },
    {
      "cell_type": "code",
      "metadata": {
        "colab": {
          "base_uri": "https://localhost:8080/"
        },
        "id": "2LeOmkW2uEN2",
        "outputId": "eba76222-3537-4b92-c8e1-e6cd650c9f66"
      },
      "source": [
        "!pip install netpyne"
      ],
      "execution_count": 5,
      "outputs": [
        {
          "output_type": "stream",
          "text": [
            "Collecting netpyne\n",
            "\u001b[?25l  Downloading https://files.pythonhosted.org/packages/9e/24/0f9d685a3fbcbca0d86d9ca6521465c43725d9e23760c91524fe77191f12/netpyne-1.0.0.2-py2.py3-none-any.whl (312kB)\n",
            "\r\u001b[K     |█                               | 10kB 22.3MB/s eta 0:00:01\r\u001b[K     |██                              | 20kB 30.8MB/s eta 0:00:01\r\u001b[K     |███▏                            | 30kB 25.9MB/s eta 0:00:01\r\u001b[K     |████▏                           | 40kB 21.5MB/s eta 0:00:01\r\u001b[K     |█████▎                          | 51kB 14.4MB/s eta 0:00:01\r\u001b[K     |██████▎                         | 61kB 16.1MB/s eta 0:00:01\r\u001b[K     |███████▍                        | 71kB 13.2MB/s eta 0:00:01\r\u001b[K     |████████▍                       | 81kB 14.5MB/s eta 0:00:01\r\u001b[K     |█████████▍                      | 92kB 14.4MB/s eta 0:00:01\r\u001b[K     |██████████▌                     | 102kB 14.4MB/s eta 0:00:01\r\u001b[K     |███████████▌                    | 112kB 14.4MB/s eta 0:00:01\r\u001b[K     |████████████▋                   | 122kB 14.4MB/s eta 0:00:01\r\u001b[K     |█████████████▋                  | 133kB 14.4MB/s eta 0:00:01\r\u001b[K     |██████████████▊                 | 143kB 14.4MB/s eta 0:00:01\r\u001b[K     |███████████████▊                | 153kB 14.4MB/s eta 0:00:01\r\u001b[K     |████████████████▉               | 163kB 14.4MB/s eta 0:00:01\r\u001b[K     |█████████████████▉              | 174kB 14.4MB/s eta 0:00:01\r\u001b[K     |██████████████████▉             | 184kB 14.4MB/s eta 0:00:01\r\u001b[K     |████████████████████            | 194kB 14.4MB/s eta 0:00:01\r\u001b[K     |█████████████████████           | 204kB 14.4MB/s eta 0:00:01\r\u001b[K     |██████████████████████          | 215kB 14.4MB/s eta 0:00:01\r\u001b[K     |███████████████████████         | 225kB 14.4MB/s eta 0:00:01\r\u001b[K     |████████████████████████▏       | 235kB 14.4MB/s eta 0:00:01\r\u001b[K     |█████████████████████████▏      | 245kB 14.4MB/s eta 0:00:01\r\u001b[K     |██████████████████████████▎     | 256kB 14.4MB/s eta 0:00:01\r\u001b[K     |███████████████████████████▎    | 266kB 14.4MB/s eta 0:00:01\r\u001b[K     |████████████████████████████▎   | 276kB 14.4MB/s eta 0:00:01\r\u001b[K     |█████████████████████████████▍  | 286kB 14.4MB/s eta 0:00:01\r\u001b[K     |██████████████████████████████▍ | 296kB 14.4MB/s eta 0:00:01\r\u001b[K     |███████████████████████████████▌| 307kB 14.4MB/s eta 0:00:01\r\u001b[K     |████████████████████████████████| 317kB 14.4MB/s \n",
            "\u001b[?25hRequirement already satisfied: future in /usr/local/lib/python3.7/dist-packages (from netpyne) (0.16.0)\n",
            "Requirement already satisfied: pandas in /usr/local/lib/python3.7/dist-packages (from netpyne) (1.1.5)\n",
            "Requirement already satisfied: bokeh in /usr/local/lib/python3.7/dist-packages (from netpyne) (2.3.2)\n",
            "Collecting matplotlib-scalebar\n",
            "  Downloading https://files.pythonhosted.org/packages/51/a4/cd254234c35f3591361988e89ab132ee14789f2ebe1ede621d63f5241f00/matplotlib_scalebar-0.7.2-py2.py3-none-any.whl\n",
            "Requirement already satisfied: scipy in /usr/local/lib/python3.7/dist-packages (from netpyne) (1.4.1)\n",
            "Requirement already satisfied: matplotlib in /usr/local/lib/python3.7/dist-packages (from netpyne) (3.2.2)\n",
            "Requirement already satisfied: numpy in /usr/local/lib/python3.7/dist-packages (from netpyne) (1.19.5)\n",
            "Requirement already satisfied: python-dateutil>=2.7.3 in /usr/local/lib/python3.7/dist-packages (from pandas->netpyne) (2.8.1)\n",
            "Requirement already satisfied: pytz>=2017.2 in /usr/local/lib/python3.7/dist-packages (from pandas->netpyne) (2018.9)\n",
            "Requirement already satisfied: pillow>=7.1.0 in /usr/local/lib/python3.7/dist-packages (from bokeh->netpyne) (7.1.2)\n",
            "Requirement already satisfied: packaging>=16.8 in /usr/local/lib/python3.7/dist-packages (from bokeh->netpyne) (20.9)\n",
            "Requirement already satisfied: Jinja2>=2.9 in /usr/local/lib/python3.7/dist-packages (from bokeh->netpyne) (2.11.3)\n",
            "Requirement already satisfied: typing-extensions>=3.7.4 in /usr/local/lib/python3.7/dist-packages (from bokeh->netpyne) (3.7.4.3)\n",
            "Requirement already satisfied: tornado>=5.1 in /usr/local/lib/python3.7/dist-packages (from bokeh->netpyne) (5.1.1)\n",
            "Requirement already satisfied: PyYAML>=3.10 in /usr/local/lib/python3.7/dist-packages (from bokeh->netpyne) (3.13)\n",
            "Requirement already satisfied: kiwisolver>=1.0.1 in /usr/local/lib/python3.7/dist-packages (from matplotlib->netpyne) (1.3.1)\n",
            "Requirement already satisfied: pyparsing!=2.0.4,!=2.1.2,!=2.1.6,>=2.0.1 in /usr/local/lib/python3.7/dist-packages (from matplotlib->netpyne) (2.4.7)\n",
            "Requirement already satisfied: cycler>=0.10 in /usr/local/lib/python3.7/dist-packages (from matplotlib->netpyne) (0.10.0)\n",
            "Requirement already satisfied: six>=1.5 in /usr/local/lib/python3.7/dist-packages (from python-dateutil>=2.7.3->pandas->netpyne) (1.15.0)\n",
            "Requirement already satisfied: MarkupSafe>=0.23 in /usr/local/lib/python3.7/dist-packages (from Jinja2>=2.9->bokeh->netpyne) (2.0.0)\n",
            "Installing collected packages: matplotlib-scalebar, netpyne\n",
            "Successfully installed matplotlib-scalebar-0.7.2 netpyne-1.0.0.2\n"
          ],
          "name": "stdout"
        }
      ]
    },
    {
      "cell_type": "code",
      "metadata": {
        "id": "jbkDbVRouWBs"
      },
      "source": [
        "import neuron"
      ],
      "execution_count": 6,
      "outputs": []
    },
    {
      "cell_type": "code",
      "metadata": {
        "id": "ChxEi69Uugxe"
      },
      "source": [
        "import netpyne"
      ],
      "execution_count": 8,
      "outputs": []
    },
    {
      "cell_type": "code",
      "metadata": {
        "id": "cdT7PDUPuiIw"
      },
      "source": [
        ""
      ],
      "execution_count": null,
      "outputs": []
    }
  ]
}